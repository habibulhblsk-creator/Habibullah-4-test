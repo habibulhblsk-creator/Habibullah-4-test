{
 "cells": [
  {
   "cell_type": "code",
   "execution_count": null,
   "id": "13a2d696-35d2-43d2-907e-0cb919620c34",
   "metadata": {},
   "outputs": [],
   "source": [
    "#What is the difference between interpreted and compiled languages?\n",
    "\n",
    "#Interpreted languages like Python are executed line by line at runtime,\n",
    "#translating code into machine-understandable instructions on-the-fly.\n",
    "\n",
    "#Compiled languages like C++ are translated entirely into machine code before execution, \n",
    "#resulting in faster execution but requiring a compilation step beforehand."
   ]
  },
  {
   "cell_type": "code",
   "execution_count": null,
   "id": "ac7af1c4-57bd-464e-8ac0-0c855f49e4c0",
   "metadata": {},
   "outputs": [],
   "source": [
    "#What is exception handling in Python?\n",
    "\n",
    "#Exception handling in Python allows you to manage errors that occur during program execution.\n",
    "#It uses try, except, finally, and optionally else blocks to handle exceptions gracefully."
   ]
  },
  {
   "cell_type": "code",
   "execution_count": null,
   "id": "013e9cd3-940a-4dba-9ac2-b21b9d0495bf",
   "metadata": {},
   "outputs": [],
   "source": [
    "#What is the purpose of the finally block in exception handling?\n",
    "\n",
    "#The finally block in Python ensures that code within it runs regardless of whether an exception was raised or not.\n",
    "#It's typically used for cleanup actions, such as closing files or releasing resources."
   ]
  },
  {
   "cell_type": "code",
   "execution_count": null,
   "id": "c54e6033-29ad-4274-ac0d-54603a7b64cb",
   "metadata": {},
   "outputs": [],
   "source": [
    "#What is logging in Python?\n",
    "\n",
    "#Logging in Python involves capturing and recording events that occur while a program runs.\n",
    "#It helps in debugging, auditing, and monitoring the application's behavior over time."
   ]
  },
  {
   "cell_type": "code",
   "execution_count": null,
   "id": "93e5e67f-3029-4826-871d-f9113efc2643",
   "metadata": {},
   "outputs": [],
   "source": [
    "#What is the significance of the __del__ method in Python?\n",
    "\n",
    "#__del__ is a special method in Python used for garbage collection.\n",
    "#It's called when an object is about to be destroyed, allowing you to\n",
    "#perform cleanup actions before the object is removed from memory."
   ]
  },
  {
   "cell_type": "code",
   "execution_count": null,
   "id": "fba6ec53-e25a-42ef-bb07-e257981e1276",
   "metadata": {},
   "outputs": [],
   "source": [
    "#What is the difference between import and from ... import in Python?\n",
    "\n",
    "#import module: Imports the entire module.\n",
    "\n",
    "#from module import name: Imports specific names from a module directly into the current namespace."
   ]
  },
  {
   "cell_type": "code",
   "execution_count": null,
   "id": "a259364d-38a4-4a24-8901-bd77e1256acd",
   "metadata": {},
   "outputs": [],
   "source": [
    "#How can you handle multiple exceptions in Python?\n",
    "\n",
    "#Multiple exceptions can be handled by listing them in a single except block or using multiple except blocks for different exceptions."
   ]
  },
  {
   "cell_type": "code",
   "execution_count": null,
   "id": "28847f08-7c25-4d74-9a28-114114dd1ae1",
   "metadata": {},
   "outputs": [],
   "source": [
    "#What is the purpose of the with statement when handling files in Python?\n",
    "\n",
    "#The with statement ensures proper acquisition and release of resources, like files.\n",
    "#It automatically handles opening and closing of files, even in the presence of exceptions."
   ]
  },
  {
   "cell_type": "code",
   "execution_count": null,
   "id": "9bc21a49-2016-4463-a95b-78be1951b50c",
   "metadata": {},
   "outputs": [],
   "source": [
    "#What is the difference between multithreading and multiprocessing?\n",
    "\n",
    "#Multithreading involves executing multiple threads within a process, sharing the same memory space.\n",
    "\n",
    "#Multiprocessing involves running multiple processes, each with its own memory space, suitable for tasks that can be parallelized."
   ]
  },
  {
   "cell_type": "code",
   "execution_count": null,
   "id": "c0bc2f74-c227-4a89-985c-63c4bcdd4f0e",
   "metadata": {},
   "outputs": [],
   "source": [
    "#What are the advantages of using logging in a program?\n",
    "\n",
    "#Logging provides a systematic way to record program events and errors, aiding in debugging, auditing, and performance monitoring."
   ]
  },
  {
   "cell_type": "code",
   "execution_count": null,
   "id": "7f4cf985-68cd-43b6-b139-4160a55d9a32",
   "metadata": {},
   "outputs": [],
   "source": [
    "#What is memory management in Python?\n",
    "\n",
    "#Memory management in Python involves handling the allocation and deallocation of memory during program execution. \n",
    "#Python uses automatic memory management that includes a private heap, reference counting, and garbage collection."
   ]
  },
  {
   "cell_type": "code",
   "execution_count": null,
   "id": "45c8ded6-d432-4b7e-b69b-9b1b5e827808",
   "metadata": {},
   "outputs": [],
   "source": [
    "#What are the basic steps involved in exception handling in Python?\n",
    "\n",
    "#Except: Catches and handles the exception.\n",
    "\n",
    "#Else (optional): Executes if no exception occurs.\n",
    "\n",
    "#Finally (optional): Executes regardless of exception, used for cleanup."
   ]
  },
  {
   "cell_type": "code",
   "execution_count": null,
   "id": "a34d0575-d7a2-4fbc-8d79-42bbd6d08c12",
   "metadata": {},
   "outputs": [],
   "source": [
    "#Why is memory management important in Python?\n",
    "\n",
    "#Prevents memory leaks.\n",
    "\n",
    "#Ensures optimal use of system resources.\n",
    "\n",
    "#Improves application performance and stability.\n",
    "\n",
    "#Is crucial for long-running programs."
   ]
  },
  {
   "cell_type": "code",
   "execution_count": null,
   "id": "e0f36d4a-4c5d-4fe8-a0a6-ef79222ee89a",
   "metadata": {},
   "outputs": [],
   "source": [
    "#What is the role of try and except in exception handling?\n",
    "\n",
    "#except block: Contains code that handles the exception, preventing crashes and providing graceful error recovery."
   ]
  },
  {
   "cell_type": "code",
   "execution_count": null,
   "id": "b06d35f5-c677-4283-a9f3-8c30248fc23c",
   "metadata": {},
   "outputs": [],
   "source": [
    "#How does Python's garbage collection system work?\n",
    "\n",
    "#Reference counting: Automatically frees memory when an object’s reference count hits zero.\n",
    "\n",
    "#Garbage collector (in gc module): Detects and collects objects involved in circular references that reference counting can't handle."
   ]
  },
  {
   "cell_type": "code",
   "execution_count": null,
   "id": "059520ef-17a5-4aaf-8f93-a1f2df771407",
   "metadata": {},
   "outputs": [],
   "source": [
    "#What is the purpose of the else block in exception handling?\n",
    "\n",
    "#The else block runs only if no exception was raised in the try block.\n",
    "#It’s useful for code that should execute after successful try, but not during exception handling."
   ]
  },
  {
   "cell_type": "code",
   "execution_count": null,
   "id": "419db8fd-6e56-4602-85c7-f89e44e0e5c0",
   "metadata": {},
   "outputs": [],
   "source": [
    "#What are the common logging levels in Python?\n",
    "\n",
    "#DEBUG – Detailed info (for debugging).\n",
    "\n",
    "#INFO – General info (e.g., app started).\n",
    "\n",
    "#WARNING – Something unexpected or deprecated.\n",
    "\n",
    "#ERROR – Serious problem, but app continues.\n",
    "\n",
    "#CRITICAL – Very serious error, app may crash."
   ]
  },
  {
   "cell_type": "code",
   "execution_count": null,
   "id": "488df4bd-a78e-466e-ad69-54fb7c27d314",
   "metadata": {},
   "outputs": [],
   "source": [
    "#Difference between os.fork() and multiprocessing in Python?\n",
    "\n",
    "#os.fork() (Unix-only): Creates a child process by duplicating the parent. Low-level, manual IPC.\n",
    "\n",
    "#multiprocessing module: Cross-platform high-level API for process-based parallelism, manages communication and state sharing."
   ]
  },
  {
   "cell_type": "code",
   "execution_count": null,
   "id": "d1573617-018f-4b96-88ca-137719f1515e",
   "metadata": {},
   "outputs": [],
   "source": [
    "#Importance of closing a file in Python?\n",
    "\n",
    "#Prevents data corruption or file lock issues.\n",
    "#Use with open(...) for automatic file closing."
   ]
  },
  {
   "cell_type": "code",
   "execution_count": null,
   "id": "4063696b-7c6c-4332-b681-26f57a1395f3",
   "metadata": {},
   "outputs": [],
   "source": [
    "#Difference between file.read() and file.readline()?\n",
    "\n",
    "#read(): Reads entire file or specified number of bytes.\n",
    "#readline(): Reads one line at a time from the file."
   ]
  },
  {
   "cell_type": "code",
   "execution_count": null,
   "id": "5b54879e-15a2-4b4d-8ee5-d6c6c5a0b4ab",
   "metadata": {},
   "outputs": [],
   "source": [
    "#What is the logging module in Python used for?\n",
    "\n",
    "#Used to track events that happen when software runs. It records:\n",
    "\n",
    "#Errors\n",
    "\n",
    "#Warnings\n",
    "\n",
    "#Debug messages\n",
    "\n",
    "#Info for monitoring and debugging"
   ]
  },
  {
   "cell_type": "code",
   "execution_count": null,
   "id": "5ad680c1-622d-411f-803a-77625b1282ed",
   "metadata": {},
   "outputs": [],
   "source": [
    "#What is the os module used for in file handling?\n",
    "\n",
    "#The os module lets you interact with the operating system. In file handling:\n",
    "#Create/delete files or directories\n",
    "#Navigate directories (os.getcwd(), os.chdir())\n",
    "#Check existence (os.path.exists())"
   ]
  },
  {
   "cell_type": "code",
   "execution_count": null,
   "id": "fa3ecc59-ad1c-45b6-a02e-40fd0528443c",
   "metadata": {},
   "outputs": [],
   "source": [
    "#Challenges associated with memory management in Python?\n",
    "\n",
    "#Circular references: Difficult for reference counting to detect.\n",
    "#Memory fragmentation: Causes inefficient usage.\n",
    "#Large objects: Can stay in memory longer than necessary.\n",
    "#Global Interpreter Lock (GIL) limits true multithreading."
   ]
  },
  {
   "cell_type": "code",
   "execution_count": null,
   "id": "0a37f44e-fe83-41b5-a6a1-1c392a1fa55e",
   "metadata": {},
   "outputs": [],
   "source": [
    "#How do you raise an exception manually in Python?\n",
    "\n",
    "#raise ValueError(\"Invalid input\")"
   ]
  },
  {
   "cell_type": "code",
   "execution_count": null,
   "id": "c2ca1ef7-3f7f-4e4d-97f6-e2447cf227e0",
   "metadata": {},
   "outputs": [],
   "source": [
    "#Why is it important to use multithreading in certain applications?\n",
    "\n",
    "#Multithreading is useful when:\n",
    "\n",
    "#You want to perform I/O-bound tasks (e.g., file or network operations).\n",
    "\n",
    "#You need concurrency to keep the UI responsive.\n",
    "\n",
    "#It allows parallelism without multiple processes"
   ]
  },
  {
   "cell_type": "code",
   "execution_count": 6,
   "id": "eda28ce2-3ba7-4e84-8570-b0e0f3f25b4e",
   "metadata": {},
   "outputs": [],
   "source": [
    "#How can you open a file for writing in Python and write a string to it\n",
    "\n",
    "with open(\"example.txt\", \"w\") as file:\n",
    "    file.write(\"Hello, my 4th test!\")"
   ]
  },
  {
   "cell_type": "code",
   "execution_count": 7,
   "id": "c14a8519-fc82-4784-9304-d9b1bb40ead6",
   "metadata": {},
   "outputs": [
    {
     "name": "stdout",
     "output_type": "stream",
     "text": [
      "Hello, my 4th test!\n"
     ]
    }
   ],
   "source": [
    "#Write a Python program to read the contents of a file and print each line\n",
    "\n",
    "with open(\"example.txt\", \"r\") as file:\n",
    "    for line in file:\n",
    "        print(line.strip())"
   ]
  },
  {
   "cell_type": "code",
   "execution_count": 9,
   "id": "f902e29d-8d36-4e9c-b3e0-2ded7cb40f4f",
   "metadata": {},
   "outputs": [
    {
     "name": "stdout",
     "output_type": "stream",
     "text": [
      "The file does not exist.\n"
     ]
    }
   ],
   "source": [
    "#How would you handle a case where the file doesn't exist while trying to open it for reading\u001f\n",
    "try:\n",
    "    with open(\"nonexistent.txt\", \"r\") as file:\n",
    "        print(file.read())\n",
    "except FileNotFoundError:\n",
    "    print(\"The file does not exist.\")"
   ]
  },
  {
   "cell_type": "code",
   "execution_count": 13,
   "id": "85def6cd-d010-4af5-b197-a33081423353",
   "metadata": {},
   "outputs": [
    {
     "name": "stdout",
     "output_type": "stream",
     "text": [
      "Error: source.txt does not exist.\n"
     ]
    }
   ],
   "source": [
    "##Write a Python script that reads from one file and writes its content to another file\n",
    "\n",
    "import os\n",
    "\n",
    "if os.path.exists(\"source.txt\"):\n",
    "    with open(\"source.txt\", \"r\") as source, open(\"destination.txt\", \"w\") as dest:\n",
    "        for line in source:\n",
    "            dest.write(line)\n",
    "    print(\"File copied successfully.\")\n",
    "else:\n",
    "    print(\"Error: source.txt does not exist.\")"
   ]
  },
  {
   "cell_type": "code",
   "execution_count": 15,
   "id": "a97d98c0-fe14-4213-b2de-7bef24e70286",
   "metadata": {},
   "outputs": [
    {
     "name": "stdout",
     "output_type": "stream",
     "text": [
      "Cannot divide by zero.\n"
     ]
    }
   ],
   "source": [
    "#How would you catch and handle division by zero error in Python\u001f\n",
    "\n",
    "try:\n",
    "    result = 10 / 0\n",
    "except ZeroDivisionError:\n",
    "    print(\"Cannot divide by zero.\")"
   ]
  },
  {
   "cell_type": "code",
   "execution_count": 16,
   "id": "301a97fe-bce3-4baf-99eb-9d33f409aad9",
   "metadata": {},
   "outputs": [
    {
     "name": "stdout",
     "output_type": "stream",
     "text": [
      "Cannot divide by zero.\n"
     ]
    }
   ],
   "source": [
    "#Write a Python program that logs an error message to a log file when a division by zero exception occurs\n",
    "\n",
    "try:\n",
    "    result = 10 / 0\n",
    "except ZeroDivisionError:\n",
    "    print(\"Cannot divide by zero.\")"
   ]
  },
  {
   "cell_type": "code",
   "execution_count": 18,
   "id": "62057706-1237-4896-8b66-7b2481dfdde6",
   "metadata": {},
   "outputs": [
    {
     "name": "stderr",
     "output_type": "stream",
     "text": [
      "INFO:root:This is an info error.\n",
      "WARNING:root:This is a warning.\n",
      "ERROR:root:This is an error.\n"
     ]
    }
   ],
   "source": [
    "#How do you log information at different levels (INFO, ERROR, WARNING) in Python using the logging module\u001f\n",
    "\n",
    "import logging\n",
    "\n",
    "logging.basicConfig(level=logging.DEBUG)\n",
    "\n",
    "logging.info(\"This is an info error.\")\n",
    "logging.warning(\"This is a warning.\")\n",
    "logging.error(\"This is an error.\")"
   ]
  },
  {
   "cell_type": "code",
   "execution_count": 20,
   "id": "7a732740-af4e-4924-ab70-f7cd1f649a59",
   "metadata": {},
   "outputs": [
    {
     "name": "stdout",
     "output_type": "stream",
     "text": [
      "File not found!\n"
     ]
    }
   ],
   "source": [
    "#Write a program to handle a file opening error using exception handling\n",
    "\n",
    "try:\n",
    "    with open(\"myfile.txt\", \"r\") as file:\n",
    "        print(file.read())\n",
    "except FileNotFoundError:\n",
    "    print(\"File not found!\")"
   ]
  },
  {
   "cell_type": "code",
   "execution_count": 21,
   "id": "892b98b5-61ad-4110-af1d-3008d13ab1f9",
   "metadata": {},
   "outputs": [],
   "source": [
    "#How can you read a file line by line and store its content in a list in Python\u001f\n",
    "\n",
    "with open(\"example.txt\", \"r\") as file:\n",
    "    lines = file.readlines()"
   ]
  },
  {
   "cell_type": "code",
   "execution_count": 22,
   "id": "eb897626-473e-4139-9b07-dd6d1786938d",
   "metadata": {},
   "outputs": [],
   "source": [
    "#How can you append data to an existing file in Python\u001f\n",
    "\n",
    "with open(\"example.txt\", \"a\") as file:\n",
    "    file.write(\"\\nAppending this line.\")"
   ]
  },
  {
   "cell_type": "code",
   "execution_count": 23,
   "id": "17787511-c916-4110-8a4c-b15a62655c39",
   "metadata": {},
   "outputs": [
    {
     "name": "stdout",
     "output_type": "stream",
     "text": [
      "Key not found.\n"
     ]
    }
   ],
   "source": [
    "#Write a Python program that uses a try-except block to handle an error when attempting to access a\n",
    "#dictionary key that doesn't exist\n",
    "my_dict = {\"name\": \"Alice\"}\n",
    "\n",
    "try:\n",
    "    print(my_dict[\"age\"])\n",
    "except KeyError:\n",
    "    print(\"Key not found.\")"
   ]
  },
  {
   "cell_type": "code",
   "execution_count": 24,
   "id": "3a72a69e-c839-422d-bc82-0a97164f3424",
   "metadata": {},
   "outputs": [
    {
     "name": "stdout",
     "output_type": "stream",
     "text": [
      "Invalid value.\n"
     ]
    }
   ],
   "source": [
    "#Write a program that demonstrates using multiple except blocks to handle different types of exceptions\n",
    "try:\n",
    "    x = int(\"abc\")\n",
    "    y = 1 / 0\n",
    "except ValueError:\n",
    "    print(\"Invalid value.\")\n",
    "except ZeroDivisionError:\n",
    "    print(\"Cannot divide by zero.\")"
   ]
  },
  {
   "cell_type": "code",
   "execution_count": 25,
   "id": "5ab5dd3e-12da-4a94-a40c-9025722d931e",
   "metadata": {},
   "outputs": [
    {
     "name": "stdout",
     "output_type": "stream",
     "text": [
      "Hello, my 4th test!\n",
      "Appending this line.\n"
     ]
    }
   ],
   "source": [
    "#How would you check if a file exists before attempting to read it in Python\u001f\n",
    "\n",
    "import os\n",
    "\n",
    "if os.path.exists(\"example.txt\"):\n",
    "    with open(\"example.txt\", \"r\") as file:\n",
    "        print(file.read())\n",
    "else:\n",
    "    print(\"File not found.\")"
   ]
  },
  {
   "cell_type": "code",
   "execution_count": 26,
   "id": "25684a1f-59d4-453c-893f-64ef45a97ee6",
   "metadata": {},
   "outputs": [
    {
     "name": "stderr",
     "output_type": "stream",
     "text": [
      "INFO:root:Application started.\n",
      "ERROR:root:Division by zero error.\n"
     ]
    }
   ],
   "source": [
    "#Write a program that uses the logging module to log both informational and error messages\n",
    "import logging\n",
    "\n",
    "logging.basicConfig(filename=\"app.log\", level=logging.INFO)\n",
    "logging.info(\"Application started.\")\n",
    "try:\n",
    "    1 / 0\n",
    "except ZeroDivisionError:\n",
    "    logging.error(\"Division by zero error.\")"
   ]
  },
  {
   "cell_type": "code",
   "execution_count": 27,
   "id": "8c78036c-96ed-4f0d-8b37-16a1ae166d97",
   "metadata": {},
   "outputs": [
    {
     "name": "stdout",
     "output_type": "stream",
     "text": [
      "Hello, my 4th test!\n",
      "Appending this line.\n"
     ]
    }
   ],
   "source": [
    "#Write a Python program that prints the content of a file and handles the case when the file is empty\n",
    "with open(\"example.txt\", \"r\") as file:\n",
    "    content = file.read()\n",
    "    if not content:\n",
    "        print(\"File is empty.\")\n",
    "    else:\n",
    "        print(content)"
   ]
  },
  {
   "cell_type": "code",
   "execution_count": 34,
   "id": "7481d29d-f366-45db-b075-1672d7683b8b",
   "metadata": {},
   "outputs": [],
   "source": [
    "#Write a Python program to create and write a list of numbers to a file, one number per line\n",
    "\n",
    "numbers = [1, 2, 3, 4, 5]\n",
    "with open(\"numbers.txt\", \"w\") as file:\n",
    "    for number in numbers:\n",
    "        file.write(f\"{number}\\n\")"
   ]
  },
  {
   "cell_type": "code",
   "execution_count": 35,
   "id": "37e05dc4-bbf2-41a4-b5c1-65b5b9d46817",
   "metadata": {},
   "outputs": [
    {
     "name": "stderr",
     "output_type": "stream",
     "text": [
      "INFO:root:Logging with rotation.\n"
     ]
    }
   ],
   "source": [
    "#How would you implement a basic logging setup that logs to a file with rotation after 1MB\u001f\n",
    "\n",
    "import logging\n",
    "from logging.handlers import RotatingFileHandler\n",
    "\n",
    "handler = RotatingFileHandler(\"rotating.log\", maxBytes=1048576, backupCount=3)\n",
    "logging.basicConfig(handlers=[handler], level=logging.INFO)\n",
    "\n",
    "logging.info(\"Logging with rotation.\")"
   ]
  },
  {
   "cell_type": "code",
   "execution_count": 37,
   "id": "90824bf6-9a30-45aa-b815-f1e7b7ff26c2",
   "metadata": {},
   "outputs": [
    {
     "name": "stdout",
     "output_type": "stream",
     "text": [
      "Index out of range.\n"
     ]
    }
   ],
   "source": [
    "#Write a program that handles both IndexError and KeyError using a try-except block\n",
    "\n",
    "try:\n",
    "    my_list = [1, 2]\n",
    "    print(my_list[5])\n",
    "    my_dict = {\"name\": \"Alice\"}\n",
    "    print(my_dict[\"age\"])\n",
    "except IndexError:\n",
    "    print(\"Index out of range.\")\n",
    "except KeyError:\n",
    "    print(\"Key does not exist.\")"
   ]
  },
  {
   "cell_type": "code",
   "execution_count": 38,
   "id": "4de4e64f-0e92-4f7b-b371-a26b3e9b86bd",
   "metadata": {},
   "outputs": [
    {
     "name": "stdout",
     "output_type": "stream",
     "text": [
      "Hello, my 4th test!\n",
      "Appending this line.\n"
     ]
    }
   ],
   "source": [
    "#How would you open a file and read its contents using a context manager in Python\u001f\n",
    "\n",
    "with open(\"example.txt\", \"r\") as file:\n",
    "    data = file.read()\n",
    "    print(data)"
   ]
  },
  {
   "cell_type": "code",
   "execution_count": 39,
   "id": "6c25ae1c-4289-4c58-be83-9f0fdc62601d",
   "metadata": {},
   "outputs": [
    {
     "name": "stdout",
     "output_type": "stream",
     "text": [
      "The word 'python' occurs 0 times.\n"
     ]
    }
   ],
   "source": [
    "#Write a Python program that reads a file and prints the number of occurrences of a specific word\n",
    "\n",
    "word_to_find = \"python\"\n",
    "count = 0\n",
    "with open(\"example.txt\", \"r\") as file:\n",
    "    for line in file:\n",
    "        count += line.lower().count(word_to_find.lower())\n",
    "print(f\"The word '{word_to_find}' occurs {count} times.\")"
   ]
  },
  {
   "cell_type": "code",
   "execution_count": 40,
   "id": "c363e83e-44d0-4363-b899-1162d6dd51b1",
   "metadata": {},
   "outputs": [
    {
     "name": "stdout",
     "output_type": "stream",
     "text": [
      "Hello, my 4th test!\n",
      "Appending this line.\n"
     ]
    }
   ],
   "source": [
    "#How can you check if a file is empty before attempting to read its contents\u001f\n",
    "import os\n",
    "\n",
    "if os.path.getsize(\"example.txt\") == 0:\n",
    "    print(\"The file is empty.\")\n",
    "else:\n",
    "    with open(\"example.txt\", \"r\") as file:\n",
    "        print(file.read())"
   ]
  },
  {
   "cell_type": "code",
   "execution_count": 41,
   "id": "7a1f8f7d-50f5-4f0b-a13f-7f69104bd2f4",
   "metadata": {},
   "outputs": [
    {
     "name": "stderr",
     "output_type": "stream",
     "text": [
      "ERROR:root:File not found: [Errno 2] No such file or directory: 'nofile.txt'\n"
     ]
    }
   ],
   "source": [
    "#Write a Python program that writes to a log file when an error occurs during file handling.\n",
    "\n",
    "import logging\n",
    "\n",
    "logging.basicConfig(filename=\"file_errors.log\", level=logging.ERROR)\n",
    "\n",
    "try:\n",
    "    with open(\"nofile.txt\", \"r\") as file:\n",
    "        print(file.read())\n",
    "except FileNotFoundError as e:\n",
    "    logging.error(\"File not found: %s\", e)"
   ]
  }
 ],
 "metadata": {
  "kernelspec": {
   "display_name": "Python 3 (ipykernel)",
   "language": "python",
   "name": "python3"
  },
  "language_info": {
   "codemirror_mode": {
    "name": "ipython",
    "version": 3
   },
   "file_extension": ".py",
   "mimetype": "text/x-python",
   "name": "python",
   "nbconvert_exporter": "python",
   "pygments_lexer": "ipython3",
   "version": "3.13.5"
  }
 },
 "nbformat": 4,
 "nbformat_minor": 5
}
